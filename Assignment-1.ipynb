{
 "cells": [
  {
   "cell_type": "markdown",
   "id": "38975d28-6902-4ffa-b3e3-08fd21b07bce",
   "metadata": {},
   "source": [
    "This is my Variable Assignment."
   ]
  },
  {
   "cell_type": "code",
   "execution_count": 2,
   "id": "60298b72-befb-45d4-b392-578826b09f3a",
   "metadata": {},
   "outputs": [],
   "source": [
    "a=5"
   ]
  },
  {
   "cell_type": "code",
   "execution_count": 3,
   "id": "37df8f65-b55a-4bb3-9277-90af3c63d849",
   "metadata": {},
   "outputs": [
    {
     "name": "stdout",
     "output_type": "stream",
     "text": [
      "5\n"
     ]
    }
   ],
   "source": [
    "print(a)"
   ]
  },
  {
   "cell_type": "code",
   "execution_count": 4,
   "id": "4b1f576d-d956-4e2e-aaa3-3c9a4a9bb7d0",
   "metadata": {},
   "outputs": [],
   "source": [
    "steps_walked=10000"
   ]
  },
  {
   "cell_type": "code",
   "execution_count": 5,
   "id": "23c02983-047a-4461-bf92-228fa600a432",
   "metadata": {},
   "outputs": [],
   "source": [
    "sleeping_hours=8.5"
   ]
  },
  {
   "cell_type": "code",
   "execution_count": 6,
   "id": "153633e4-4929-47a6-a667-c4b2a75a6902",
   "metadata": {},
   "outputs": [],
   "source": [
    "maths_score=96"
   ]
  },
  {
   "cell_type": "code",
   "execution_count": 7,
   "id": "2984cac2-2b12-458e-b6bb-66b55d0ab817",
   "metadata": {},
   "outputs": [],
   "source": [
    "account_balance=100000"
   ]
  },
  {
   "cell_type": "code",
   "execution_count": 8,
   "id": "1da5572d-e571-4f86-b97c-11666149cb3d",
   "metadata": {},
   "outputs": [],
   "source": [
    "distance=2000"
   ]
  },
  {
   "cell_type": "code",
   "execution_count": 9,
   "id": "faba5c00-bc2f-4eb2-b931-9ac2051278d8",
   "metadata": {},
   "outputs": [
    {
     "data": {
      "text/plain": [
       "12000"
      ]
     },
     "execution_count": 9,
     "metadata": {},
     "output_type": "execute_result"
    }
   ],
   "source": [
    "steps_walked+2000"
   ]
  },
  {
   "cell_type": "code",
   "execution_count": 10,
   "id": "534757cb-1492-4063-b92e-4b061f60f71b",
   "metadata": {},
   "outputs": [
    {
     "data": {
      "text/plain": [
       "94"
      ]
     },
     "execution_count": 10,
     "metadata": {},
     "output_type": "execute_result"
    }
   ],
   "source": [
    "maths_score-2"
   ]
  },
  {
   "cell_type": "code",
   "execution_count": 11,
   "id": "329dd83c-0e1e-4841-8b14-8d4ee4914152",
   "metadata": {},
   "outputs": [
    {
     "data": {
      "text/plain": [
       "99000"
      ]
     },
     "execution_count": 11,
     "metadata": {},
     "output_type": "execute_result"
    }
   ],
   "source": [
    "account_balance-1000"
   ]
  },
  {
   "cell_type": "code",
   "execution_count": 12,
   "id": "4ba6c995-f031-41b3-968a-43ff14c780be",
   "metadata": {},
   "outputs": [
    {
     "data": {
      "text/plain": [
       "80000"
      ]
     },
     "execution_count": 12,
     "metadata": {},
     "output_type": "execute_result"
    }
   ],
   "source": [
    "account_balance-20000"
   ]
  },
  {
   "cell_type": "code",
   "execution_count": 13,
   "id": "c50da131-0fb2-447e-ad07-e7657e38951a",
   "metadata": {},
   "outputs": [],
   "source": [
    "account_balance=account_balance-2000"
   ]
  },
  {
   "cell_type": "code",
   "execution_count": 15,
   "id": "72951103-72b5-41f6-891a-ec1a448daec2",
   "metadata": {},
   "outputs": [
    {
     "name": "stdout",
     "output_type": "stream",
     "text": [
      "account_balance=account_balance\n"
     ]
    }
   ],
   "source": [
    "print(\"account_balance=account_balance\")"
   ]
  },
  {
   "cell_type": "code",
   "execution_count": 16,
   "id": "42d3f7f2-5772-4a78-b95e-2aaf351f665e",
   "metadata": {},
   "outputs": [
    {
     "data": {
      "text/plain": [
       "97500"
      ]
     },
     "execution_count": 16,
     "metadata": {},
     "output_type": "execute_result"
    }
   ],
   "source": [
    "account_balance-500"
   ]
  },
  {
   "cell_type": "code",
   "execution_count": null,
   "id": "ba378ed1-e816-4c1a-a8a2-8df284ba96c8",
   "metadata": {},
   "outputs": [],
   "source": []
  }
 ],
 "metadata": {
  "kernelspec": {
   "display_name": "Python 3 (ipykernel)",
   "language": "python",
   "name": "python3"
  },
  "language_info": {
   "codemirror_mode": {
    "name": "ipython",
    "version": 3
   },
   "file_extension": ".py",
   "mimetype": "text/x-python",
   "name": "python",
   "nbconvert_exporter": "python",
   "pygments_lexer": "ipython3",
   "version": "3.13.5"
  }
 },
 "nbformat": 4,
 "nbformat_minor": 5
}
