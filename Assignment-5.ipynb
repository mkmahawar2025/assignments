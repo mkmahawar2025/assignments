{
 "cells": [
  {
   "cell_type": "markdown",
   "id": "7efb2a5d-185a-4285-b693-dfd9b13db99d",
   "metadata": {},
   "source": [
    "Question 1: If Statements\n",
    "\n",
    "Write an if statement to compare two variables, a and b. If b is greater than a, print a message saying \"b is greater than a\"."
   ]
  },
  {
   "cell_type": "code",
   "execution_count": 2,
   "id": "cee760cf-3c6c-4c08-a0ef-1a9e41ba12dd",
   "metadata": {},
   "outputs": [],
   "source": [
    "a=150\n",
    "b=300"
   ]
  },
  {
   "cell_type": "code",
   "execution_count": 4,
   "id": "69fe4398-eab5-4f0b-926f-92812e4539bc",
   "metadata": {},
   "outputs": [
    {
     "name": "stdout",
     "output_type": "stream",
     "text": [
      "b is greater than a\n"
     ]
    }
   ],
   "source": [
    "if a<b:\n",
    "    print(\"b is greater than a\")"
   ]
  },
  {
   "cell_type": "markdown",
   "id": "93e8793e-3a07-48ce-9d60-9b1121bb877b",
   "metadata": {},
   "source": [
    "Question 2: If-Else Statements\n",
    "\n",
    "Write an if-else statement to compare two variables, a and b. If b is greater than a, print \"b is greater than a\". Otherwise, print \"a and b are equal\"."
   ]
  },
  {
   "cell_type": "code",
   "execution_count": 6,
   "id": "f977ede6-62dc-4101-88c3-de3464c2649a",
   "metadata": {},
   "outputs": [],
   "source": [
    "a=150\n",
    "b=150"
   ]
  },
  {
   "cell_type": "code",
   "execution_count": 8,
   "id": "16068eb7-5d7b-4c9f-bd8e-263a48531a92",
   "metadata": {},
   "outputs": [
    {
     "name": "stdout",
     "output_type": "stream",
     "text": [
      "a and b are equal\n"
     ]
    }
   ],
   "source": [
    "if a<b:\n",
    "    print(\"b is greater than a\")\n",
    "else:\n",
    "    print(\"a and b are equal\")"
   ]
  },
  {
   "cell_type": "markdown",
   "id": "42c17783-19ef-4b17-bcc1-2517d9ec7a4d",
   "metadata": {},
   "source": [
    "Question 3: If-Elif-Else Statements\n",
    "\n",
    "Write an if-elif-else statement to compare two variables, a and b. If b is greater than a, print \"b is greater than a\". If a and b are equal, print \"a and b are equal\". Otherwise, print \"a is greater than b\"."
   ]
  },
  {
   "cell_type": "code",
   "execution_count": 28,
   "id": "7302e4ff-b6d9-4ddd-a24c-62d0f5e1e7a5",
   "metadata": {},
   "outputs": [],
   "source": [
    "a=10\n",
    "b=10"
   ]
  },
  {
   "cell_type": "code",
   "execution_count": 30,
   "id": "09c3c7ac-3966-4ae5-9cbd-70b68d62c609",
   "metadata": {},
   "outputs": [
    {
     "name": "stdout",
     "output_type": "stream",
     "text": [
      "10\n",
      "10\n"
     ]
    }
   ],
   "source": [
    "print(a)\n",
    "print(b)"
   ]
  },
  {
   "cell_type": "code",
   "execution_count": 31,
   "id": "0f734f8b-5f64-4788-b551-377f30a9574d",
   "metadata": {},
   "outputs": [
    {
     "name": "stdout",
     "output_type": "stream",
     "text": [
      "a and b are equal\n"
     ]
    }
   ],
   "source": [
    "if a<b:\n",
    "    print(\"b is greater than a\")\n",
    "elif a==b:\n",
    "    print(\"a and b are equal\")\n",
    "else:\n",
    "    print(\"a is greater than b\")"
   ]
  },
  {
   "cell_type": "markdown",
   "id": "282c0be1-d5ea-4d77-93a1-4f1ef6ba1b18",
   "metadata": {},
   "source": [
    "Question 4: Create and Access Tuple\n",
    "\n",
    "Create a tuple with the elements (\"apple\", \"banana\", \"cherry\"). Access and print the second element of the tuple."
   ]
  },
  {
   "cell_type": "code",
   "execution_count": 32,
   "id": "1bef9d0d-1c8c-4501-ad8f-498582e69df2",
   "metadata": {},
   "outputs": [],
   "source": [
    "fruits=(\"apple\", \"banana\", \"cherry\")"
   ]
  },
  {
   "cell_type": "code",
   "execution_count": 33,
   "id": "fccf3ba0-6620-4720-ad84-7be7df0182ad",
   "metadata": {},
   "outputs": [
    {
     "data": {
      "text/plain": [
       "'banana'"
      ]
     },
     "execution_count": 33,
     "metadata": {},
     "output_type": "execute_result"
    }
   ],
   "source": [
    "fruits[1]"
   ]
  },
  {
   "cell_type": "markdown",
   "id": "1b61c5bf-5078-4f97-998b-142e089e9c27",
   "metadata": {},
   "source": [
    "Question 5: Tuple with One Item\n",
    "\n",
    "Create a tuple with a single item \"apple\". Print the type of the tuple to confirm it's a tuple."
   ]
  },
  {
   "cell_type": "code",
   "execution_count": 34,
   "id": "b5e58615-1dfe-4df7-9ca7-972b556a88c7",
   "metadata": {},
   "outputs": [],
   "source": [
    "name=(\"Manish\",)"
   ]
  },
  {
   "cell_type": "code",
   "execution_count": 35,
   "id": "7144283e-95ee-467b-8608-5c58d5f8dcea",
   "metadata": {},
   "outputs": [
    {
     "data": {
      "text/plain": [
       "tuple"
      ]
     },
     "execution_count": 35,
     "metadata": {},
     "output_type": "execute_result"
    }
   ],
   "source": [
    "type(name)"
   ]
  },
  {
   "cell_type": "markdown",
   "id": "6d3592eb-eaf3-40ab-8683-326459d4b7fb",
   "metadata": {},
   "source": [
    "Question 6: Check if Item Exists in Tuple\n",
    "\n",
    "Create a tuple with the elements (\"apple\", \"banana\", \"cherry\"). Check if the item \"apple\" exists in the tuple and print the result."
   ]
  },
  {
   "cell_type": "code",
   "execution_count": 36,
   "id": "98a6b500-582a-4330-9afb-9aa5ef0dafd2",
   "metadata": {},
   "outputs": [],
   "source": [
    "fruits=(\"apple\", \"banana\", \"cherry\")"
   ]
  },
  {
   "cell_type": "code",
   "execution_count": 37,
   "id": "f817aacc-9dd8-49ff-889e-afa1e13c2384",
   "metadata": {},
   "outputs": [
    {
     "name": "stdout",
     "output_type": "stream",
     "text": [
      "True\n"
     ]
    }
   ],
   "source": [
    "print(\"apple\" in fruits)"
   ]
  },
  {
   "cell_type": "markdown",
   "id": "8b0a8a24-522e-46c6-800e-b6813f44735b",
   "metadata": {},
   "source": [
    "Question 7: Convert Tuple to List and Modify\n",
    "\n",
    "Convert a tuple (\"apple\", \"banana\", \"cherry\") to a list. Change the second item to \"kiwi\" and convert it back to a tuple. Print the modified tuple."
   ]
  },
  {
   "cell_type": "code",
   "execution_count": 38,
   "id": "20e3cd5a-e9b9-41a5-af8d-df6816574733",
   "metadata": {},
   "outputs": [],
   "source": [
    "fruits=(\"apple\", \"banana\", \"cherry\")"
   ]
  },
  {
   "cell_type": "code",
   "execution_count": 39,
   "id": "aa364090-1433-483e-ab1c-7951840dda58",
   "metadata": {},
   "outputs": [],
   "source": [
    "x=list(fruits)"
   ]
  },
  {
   "cell_type": "code",
   "execution_count": 40,
   "id": "64bd538f-11e8-417c-a9db-8a7fa50a845a",
   "metadata": {},
   "outputs": [],
   "source": [
    "x[1]=\"kiwi\""
   ]
  },
  {
   "cell_type": "code",
   "execution_count": 41,
   "id": "c64f2969-0d3e-4ae7-a6a5-7b1c77829776",
   "metadata": {},
   "outputs": [
    {
     "data": {
      "text/plain": [
       "('apple', 'kiwi', 'cherry')"
      ]
     },
     "execution_count": 41,
     "metadata": {},
     "output_type": "execute_result"
    }
   ],
   "source": [
    "tuple(x)"
   ]
  },
  {
   "cell_type": "markdown",
   "id": "fbdf410d-c0f8-4bf1-a46e-96a7a2e4b426",
   "metadata": {},
   "source": [
    "Question 8: Add and Remove Items from Set\n",
    "\n",
    "Create a set with the elements {\"apple\", \"banana\", \"cherry\"}. Add \"orange\" to the set and remove \"banana\". Print the modified set."
   ]
  },
  {
   "cell_type": "code",
   "execution_count": 43,
   "id": "08791795-1889-45c6-b56d-b3a9ada88d3a",
   "metadata": {},
   "outputs": [],
   "source": [
    "fruits={\"apple\", \"banana\", \"cherry\"}"
   ]
  },
  {
   "cell_type": "code",
   "execution_count": 44,
   "id": "4f8fcca4-1a93-48b7-a81e-6fab1a698763",
   "metadata": {},
   "outputs": [],
   "source": [
    "fruits.add(\"orange\")"
   ]
  },
  {
   "cell_type": "code",
   "execution_count": 46,
   "id": "883a3b58-bb13-4b5e-989e-b4d001824f87",
   "metadata": {},
   "outputs": [
    {
     "data": {
      "text/plain": [
       "{'apple', 'banana', 'cherry', 'orange'}"
      ]
     },
     "execution_count": 46,
     "metadata": {},
     "output_type": "execute_result"
    }
   ],
   "source": [
    "fruits"
   ]
  },
  {
   "cell_type": "code",
   "execution_count": 47,
   "id": "6939284e-a171-43d0-af9c-d6294e5f40da",
   "metadata": {},
   "outputs": [],
   "source": [
    "fruits.remove(\"banana\")"
   ]
  },
  {
   "cell_type": "code",
   "execution_count": 48,
   "id": "c3204fe7-694e-4d6d-b7cd-dbb40a2d2998",
   "metadata": {},
   "outputs": [
    {
     "data": {
      "text/plain": [
       "{'apple', 'cherry', 'orange'}"
      ]
     },
     "execution_count": 48,
     "metadata": {},
     "output_type": "execute_result"
    }
   ],
   "source": [
    "fruits"
   ]
  },
  {
   "cell_type": "markdown",
   "id": "9418b4cc-b0dc-41da-93a3-7a1af93de42d",
   "metadata": {},
   "source": [
    "Question 9: Loop Through Tuple\n",
    "\n",
    "Create a tuple with the elements (\"apple\", \"banana\", \"cherry\"). Use a for loop to print each item in the tuple."
   ]
  },
  {
   "cell_type": "code",
   "execution_count": 49,
   "id": "262b9323-f90f-4c14-a30b-1b17d5689c29",
   "metadata": {},
   "outputs": [],
   "source": [
    "fruits=(\"apple\", \"banana\", \"cherry\")"
   ]
  },
  {
   "cell_type": "markdown",
   "id": "2ca1c6f3-490f-4654-87bb-43186d9a4e27",
   "metadata": {},
   "source": [
    "Question 10:\n",
    "\n",
    "Create a set with the elements {\"apple\", \"banana\", \"cherry\"}. Update it with another set {\"pineapple\", \"mango\", \"papaya\"} and a list [\"kiwi\", \"orange\"]. Print the updated set."
   ]
  },
  {
   "cell_type": "code",
   "execution_count": 58,
   "id": "39dd20fa-e587-49ed-9d0c-b48855d7e079",
   "metadata": {},
   "outputs": [],
   "source": [
    "x={\"apple\", \"banana\", \"cherry\"}"
   ]
  },
  {
   "cell_type": "code",
   "execution_count": 59,
   "id": "54c480bf-d476-4e37-b7b8-ff09a6f4f670",
   "metadata": {},
   "outputs": [],
   "source": [
    "y={\"pineapple\", \"mango\", \"papaya\"}"
   ]
  },
  {
   "cell_type": "code",
   "execution_count": 60,
   "id": "9121067a-d4a7-43b7-8fcc-081c51ea0bbc",
   "metadata": {},
   "outputs": [],
   "source": [
    "x.update(y)"
   ]
  },
  {
   "cell_type": "code",
   "execution_count": 61,
   "id": "4ab35e69-bb34-4b04-ad8c-7cde0d77b3ff",
   "metadata": {},
   "outputs": [
    {
     "data": {
      "text/plain": [
       "{'apple', 'banana', 'cherry', 'mango', 'papaya', 'pineapple'}"
      ]
     },
     "execution_count": 61,
     "metadata": {},
     "output_type": "execute_result"
    }
   ],
   "source": [
    "x"
   ]
  },
  {
   "cell_type": "code",
   "execution_count": 62,
   "id": "6e514411-9e36-4ef4-891c-9c7f9c1318b4",
   "metadata": {},
   "outputs": [],
   "source": [
    "z=[\"kiwi\",\"orange\"]"
   ]
  },
  {
   "cell_type": "code",
   "execution_count": 63,
   "id": "d583fab1-4c86-4344-9c48-05f82c31549c",
   "metadata": {},
   "outputs": [],
   "source": [
    "x.update(z)"
   ]
  },
  {
   "cell_type": "code",
   "execution_count": 64,
   "id": "8338fb7e-1ba7-4b4b-933f-cff31b5ab4bf",
   "metadata": {},
   "outputs": [
    {
     "data": {
      "text/plain": [
       "{'apple', 'banana', 'cherry', 'kiwi', 'mango', 'orange', 'papaya', 'pineapple'}"
      ]
     },
     "execution_count": 64,
     "metadata": {},
     "output_type": "execute_result"
    }
   ],
   "source": [
    "x"
   ]
  },
  {
   "cell_type": "code",
   "execution_count": null,
   "id": "7f26f6d4-bbcb-4d39-9aab-91dee9b69821",
   "metadata": {},
   "outputs": [],
   "source": []
  }
 ],
 "metadata": {
  "kernelspec": {
   "display_name": "Python 3 (ipykernel)",
   "language": "python",
   "name": "python3"
  },
  "language_info": {
   "codemirror_mode": {
    "name": "ipython",
    "version": 3
   },
   "file_extension": ".py",
   "mimetype": "text/x-python",
   "name": "python",
   "nbconvert_exporter": "python",
   "pygments_lexer": "ipython3",
   "version": "3.13.5"
  }
 },
 "nbformat": 4,
 "nbformat_minor": 5
}
