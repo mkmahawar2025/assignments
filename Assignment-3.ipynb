{
 "cells": [
  {
   "cell_type": "markdown",
   "id": "53e81b05-5d12-4ca5-b0f7-f49306c66f69",
   "metadata": {},
   "source": [
    "1. Create a variable `city` and assign the name of your favorite city to it. Print the variable.||"
   ]
  },
  {
   "cell_type": "code",
   "execution_count": 7,
   "id": "fe8916e0-4128-4a94-b6bb-626eae1a12c8",
   "metadata": {},
   "outputs": [],
   "source": [
    "city='Mathura'"
   ]
  },
  {
   "cell_type": "code",
   "execution_count": 5,
   "id": "3f5285ae-5bad-4772-9501-3642afe9b606",
   "metadata": {},
   "outputs": [],
   "source": [
    "city2='Delhi'"
   ]
  },
  {
   "cell_type": "code",
   "execution_count": 8,
   "id": "f5d1f160-c22a-41aa-8690-b00df954dbfd",
   "metadata": {},
   "outputs": [
    {
     "name": "stdout",
     "output_type": "stream",
     "text": [
      "Mathura Delhi\n"
     ]
    }
   ],
   "source": [
    "print(city,city2)"
   ]
  },
  {
   "cell_type": "markdown",
   "id": "02b2746d-d13f-4d3d-bbf5-010c9fa55798",
   "metadata": {},
   "source": [
    "2. Print the data type of the variable `city`."
   ]
  },
  {
   "cell_type": "code",
   "execution_count": 10,
   "id": "07a659eb-f4e4-4e0a-97d0-db9bd96d62b2",
   "metadata": {},
   "outputs": [
    {
     "data": {
      "text/plain": [
       "str"
      ]
     },
     "execution_count": 10,
     "metadata": {},
     "output_type": "execute_result"
    }
   ],
   "source": [
    "type(city)"
   ]
  },
  {
   "cell_type": "markdown",
   "id": "eb2caf5d-3bdf-4229-8ab0-462d2636ef35",
   "metadata": {},
   "source": [
    "3. Convert the integer `42` to a string and assign it to a new variable. Print the new variable."
   ]
  },
  {
   "cell_type": "code",
   "execution_count": 11,
   "id": "693e141e-5dbc-4919-bec0-d552f9824cd7",
   "metadata": {},
   "outputs": [],
   "source": [
    "integer=42"
   ]
  },
  {
   "cell_type": "code",
   "execution_count": 12,
   "id": "18922893-f902-442a-a9ee-56e86413e91f",
   "metadata": {},
   "outputs": [
    {
     "data": {
      "text/plain": [
       "'42'"
      ]
     },
     "execution_count": 12,
     "metadata": {},
     "output_type": "execute_result"
    }
   ],
   "source": [
    "str(integer)"
   ]
  },
  {
   "cell_type": "code",
   "execution_count": 13,
   "id": "511092ec-bbe9-471f-9ff0-252c9f3a3cd8",
   "metadata": {},
   "outputs": [
    {
     "data": {
      "text/plain": [
       "int"
      ]
     },
     "execution_count": 13,
     "metadata": {},
     "output_type": "execute_result"
    }
   ],
   "source": [
    "type(integer)"
   ]
  },
  {
   "cell_type": "code",
   "execution_count": 14,
   "id": "cf063508-f90b-4947-a536-f21a91fe33f8",
   "metadata": {},
   "outputs": [],
   "source": [
    "name='MANISH KUMAR MAHAWAR'"
   ]
  },
  {
   "cell_type": "markdown",
   "id": "e158f625-918c-4fa1-afa2-68d36726a55c",
   "metadata": {},
   "source": [
    "4. Use len() on your name variable and count lenght of your name"
   ]
  },
  {
   "cell_type": "code",
   "execution_count": 18,
   "id": "746ec66e-14c2-4d1d-a6ea-53b3dd7a96e4",
   "metadata": {},
   "outputs": [
    {
     "data": {
      "text/plain": [
       "20"
      ]
     },
     "execution_count": 18,
     "metadata": {},
     "output_type": "execute_result"
    }
   ],
   "source": [
    "len(name)"
   ]
  },
  {
   "cell_type": "markdown",
   "id": "510b4e2f-ef05-4ccf-8089-e7b5d3f76141",
   "metadata": {},
   "source": [
    "5. use \" if \" statement to to check \"code\" word exist or not in \" code square\""
   ]
  },
  {
   "cell_type": "code",
   "execution_count": 19,
   "id": "8dd1ca3c-5aa0-431c-ae09-acec4e265964",
   "metadata": {},
   "outputs": [],
   "source": [
    "txt='Code square data science bootcamp'"
   ]
  },
  {
   "cell_type": "code",
   "execution_count": 22,
   "id": "12952208-1e4e-4da0-8d81-9d31cf2a7912",
   "metadata": {},
   "outputs": [
    {
     "name": "stdout",
     "output_type": "stream",
     "text": [
      "yes, Code is present\n"
     ]
    }
   ],
   "source": [
    "if \"Code\" in txt:\n",
    "    print(\"yes, Code is present\")"
   ]
  },
  {
   "cell_type": "code",
   "execution_count": null,
   "id": "16fdf1ed-e18a-4532-8eb7-93f18ea2595e",
   "metadata": {},
   "outputs": [],
   "source": []
  }
 ],
 "metadata": {
  "kernelspec": {
   "display_name": "Python 3 (ipykernel)",
   "language": "python",
   "name": "python3"
  },
  "language_info": {
   "codemirror_mode": {
    "name": "ipython",
    "version": 3
   },
   "file_extension": ".py",
   "mimetype": "text/x-python",
   "name": "python",
   "nbconvert_exporter": "python",
   "pygments_lexer": "ipython3",
   "version": "3.13.5"
  }
 },
 "nbformat": 4,
 "nbformat_minor": 5
}
