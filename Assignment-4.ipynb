{
 "cells": [
  {
   "cell_type": "markdown",
   "id": "f54a4fd6-baa1-4a9a-b8fc-0b647e3826bd",
   "metadata": {},
   "source": [
    "1) demonstrate the use of the following arithmetic operators in Python on any numbers:\n",
    "\n",
    "Addition, Subtraction, Multiplication, Division, Modulus, Exponentiation, Floor Division."
   ]
  },
  {
   "cell_type": "code",
   "execution_count": 2,
   "id": "3e2f8f47-e00a-4f33-b2a0-c007836ec3f7",
   "metadata": {},
   "outputs": [],
   "source": [
    "x=5\n",
    "y=8"
   ]
  },
  {
   "cell_type": "markdown",
   "id": "b77c2b9f-8844-4798-afb8-583181544c5b",
   "metadata": {},
   "source": [
    "ADDITION"
   ]
  },
  {
   "cell_type": "code",
   "execution_count": 3,
   "id": "740b3bf1-0ceb-4696-8a28-3b1388992e8f",
   "metadata": {},
   "outputs": [
    {
     "data": {
      "text/plain": [
       "13"
      ]
     },
     "execution_count": 3,
     "metadata": {},
     "output_type": "execute_result"
    }
   ],
   "source": [
    "x+y"
   ]
  },
  {
   "cell_type": "markdown",
   "id": "99a56508-fc29-451d-8860-ecf7236d81a6",
   "metadata": {},
   "source": [
    "SUBTRACTION"
   ]
  },
  {
   "cell_type": "code",
   "execution_count": 4,
   "id": "ed9801f6-d334-4778-85a9-e659f4761fb4",
   "metadata": {},
   "outputs": [
    {
     "data": {
      "text/plain": [
       "-3"
      ]
     },
     "execution_count": 4,
     "metadata": {},
     "output_type": "execute_result"
    }
   ],
   "source": [
    "x-y"
   ]
  },
  {
   "cell_type": "code",
   "execution_count": 5,
   "id": "aabb2c92-b1e5-43f2-81fe-e2549f81bfc5",
   "metadata": {},
   "outputs": [
    {
     "data": {
      "text/plain": [
       "3"
      ]
     },
     "execution_count": 5,
     "metadata": {},
     "output_type": "execute_result"
    }
   ],
   "source": [
    "y-x"
   ]
  },
  {
   "cell_type": "markdown",
   "id": "2f8559f5-df8e-4665-a8a7-30bd8310d8dc",
   "metadata": {},
   "source": [
    "MULTIPLICATION"
   ]
  },
  {
   "cell_type": "code",
   "execution_count": 6,
   "id": "15218be4-6b7d-47ab-9461-6333488075b8",
   "metadata": {},
   "outputs": [
    {
     "data": {
      "text/plain": [
       "40"
      ]
     },
     "execution_count": 6,
     "metadata": {},
     "output_type": "execute_result"
    }
   ],
   "source": [
    "x*y"
   ]
  },
  {
   "cell_type": "markdown",
   "id": "f9e54d54-50c2-4ad1-81c7-ab1ce63c7f5a",
   "metadata": {},
   "source": [
    "DIVISION"
   ]
  },
  {
   "cell_type": "code",
   "execution_count": 7,
   "id": "b0f64585-6d9e-44bc-9945-67b8065959c4",
   "metadata": {},
   "outputs": [
    {
     "data": {
      "text/plain": [
       "1.6"
      ]
     },
     "execution_count": 7,
     "metadata": {},
     "output_type": "execute_result"
    }
   ],
   "source": [
    "y/x"
   ]
  },
  {
   "cell_type": "markdown",
   "id": "e1afcff3-0b55-4dfb-adc7-09f356a2f98c",
   "metadata": {},
   "source": [
    "MODULUS"
   ]
  },
  {
   "cell_type": "code",
   "execution_count": 9,
   "id": "7db80438-c9de-4e6c-90a0-efc48bf1bdd5",
   "metadata": {},
   "outputs": [
    {
     "data": {
      "text/plain": [
       "3"
      ]
     },
     "execution_count": 9,
     "metadata": {},
     "output_type": "execute_result"
    }
   ],
   "source": [
    "y%x"
   ]
  },
  {
   "cell_type": "markdown",
   "id": "2b999cc1-aab4-43d3-a1e6-7dba3adc4e72",
   "metadata": {},
   "source": [
    "EXPONENTATION"
   ]
  },
  {
   "cell_type": "code",
   "execution_count": 10,
   "id": "cd0d6c4c-06a5-4f7d-a38d-1c96fdd38fa1",
   "metadata": {},
   "outputs": [
    {
     "data": {
      "text/plain": [
       "390625"
      ]
     },
     "execution_count": 10,
     "metadata": {},
     "output_type": "execute_result"
    }
   ],
   "source": [
    "x**y"
   ]
  },
  {
   "cell_type": "markdown",
   "id": "9d274970-93d3-4b87-af67-aefbffdc4737",
   "metadata": {},
   "source": [
    "FLOOR DIVISION"
   ]
  },
  {
   "cell_type": "code",
   "execution_count": 11,
   "id": "f16810b7-3fe7-462f-83c3-9a182b05eefa",
   "metadata": {},
   "outputs": [
    {
     "data": {
      "text/plain": [
       "3"
      ]
     },
     "execution_count": 11,
     "metadata": {},
     "output_type": "execute_result"
    }
   ],
   "source": [
    "7//2"
   ]
  },
  {
   "cell_type": "code",
   "execution_count": 12,
   "id": "952c1b69-10ac-4165-ab05-17fc162ecb28",
   "metadata": {},
   "outputs": [
    {
     "data": {
      "text/plain": [
       "3.0"
      ]
     },
     "execution_count": 12,
     "metadata": {},
     "output_type": "execute_result"
    }
   ],
   "source": [
    "7.5//2"
   ]
  },
  {
   "cell_type": "code",
   "execution_count": 13,
   "id": "c4579c7e-4382-4c73-bc09-c3eaa4ac866c",
   "metadata": {},
   "outputs": [
    {
     "data": {
      "text/plain": [
       "-4"
      ]
     },
     "execution_count": 13,
     "metadata": {},
     "output_type": "execute_result"
    }
   ],
   "source": [
    "-7//2"
   ]
  },
  {
   "cell_type": "markdown",
   "id": "44b2de00-1086-4306-9d65-dc46f8375ef2",
   "metadata": {},
   "source": [
    "2) Write Python expressions using comparison operators (less than, greater than, equal to, not equal to) and evaluate them. Include examples with both numbers and strings."
   ]
  },
  {
   "cell_type": "code",
   "execution_count": 14,
   "id": "b3fd239d-543e-4d74-9d2d-ce8231e0673e",
   "metadata": {},
   "outputs": [
    {
     "data": {
      "text/plain": [
       "True"
      ]
     },
     "execution_count": 14,
     "metadata": {},
     "output_type": "execute_result"
    }
   ],
   "source": [
    "10<12"
   ]
  },
  {
   "cell_type": "code",
   "execution_count": 15,
   "id": "d5a6651f-024f-442b-b91a-62afeb5d9d83",
   "metadata": {},
   "outputs": [
    {
     "data": {
      "text/plain": [
       "True"
      ]
     },
     "execution_count": 15,
     "metadata": {},
     "output_type": "execute_result"
    }
   ],
   "source": [
    "17>13"
   ]
  },
  {
   "cell_type": "code",
   "execution_count": 16,
   "id": "8d1c9d4e-8461-48c1-95ee-820bff8aa48b",
   "metadata": {},
   "outputs": [
    {
     "data": {
      "text/plain": [
       "False"
      ]
     },
     "execution_count": 16,
     "metadata": {},
     "output_type": "execute_result"
    }
   ],
   "source": [
    "17<12"
   ]
  },
  {
   "cell_type": "code",
   "execution_count": 17,
   "id": "b1a5ceb5-9666-404a-83f9-1fcfb8f885b5",
   "metadata": {},
   "outputs": [
    {
     "data": {
      "text/plain": [
       "False"
      ]
     },
     "execution_count": 17,
     "metadata": {},
     "output_type": "execute_result"
    }
   ],
   "source": [
    "12>100"
   ]
  },
  {
   "cell_type": "code",
   "execution_count": 18,
   "id": "44144a35-1e39-4c0c-bdbc-f67391d20270",
   "metadata": {},
   "outputs": [
    {
     "data": {
      "text/plain": [
       "True"
      ]
     },
     "execution_count": 18,
     "metadata": {},
     "output_type": "execute_result"
    }
   ],
   "source": [
    "12==12"
   ]
  },
  {
   "cell_type": "code",
   "execution_count": 19,
   "id": "e3304258-434b-4775-8b5a-96f28c5dffb1",
   "metadata": {},
   "outputs": [
    {
     "data": {
      "text/plain": [
       "True"
      ]
     },
     "execution_count": 19,
     "metadata": {},
     "output_type": "execute_result"
    }
   ],
   "source": [
    "12!=13"
   ]
  },
  {
   "cell_type": "code",
   "execution_count": 20,
   "id": "d0c3861f-3298-4e05-bd61-b9fd9f0be480",
   "metadata": {},
   "outputs": [
    {
     "data": {
      "text/plain": [
       "False"
      ]
     },
     "execution_count": 20,
     "metadata": {},
     "output_type": "execute_result"
    }
   ],
   "source": [
    "12!=12"
   ]
  },
  {
   "cell_type": "code",
   "execution_count": 23,
   "id": "ded27036-610b-4641-87cd-9ae5e624316f",
   "metadata": {},
   "outputs": [],
   "source": [
    "a=\"Manish\"\n",
    "b=\"MANISH\"\n",
    "c=\"manish\"\n",
    "d=\"Manish\""
   ]
  },
  {
   "cell_type": "code",
   "execution_count": 24,
   "id": "f11f9b06-d82d-43be-84d2-b96b4b6c98f8",
   "metadata": {},
   "outputs": [
    {
     "data": {
      "text/plain": [
       "False"
      ]
     },
     "execution_count": 24,
     "metadata": {},
     "output_type": "execute_result"
    }
   ],
   "source": [
    "a==b"
   ]
  },
  {
   "cell_type": "code",
   "execution_count": 25,
   "id": "974f3d56-57a0-4182-a3ca-2d70cfa3315a",
   "metadata": {},
   "outputs": [
    {
     "data": {
      "text/plain": [
       "True"
      ]
     },
     "execution_count": 25,
     "metadata": {},
     "output_type": "execute_result"
    }
   ],
   "source": [
    "a==d"
   ]
  },
  {
   "cell_type": "code",
   "execution_count": 26,
   "id": "0e704628-9e35-46d1-a4a5-cb5c1943d071",
   "metadata": {},
   "outputs": [
    {
     "data": {
      "text/plain": [
       "False"
      ]
     },
     "execution_count": 26,
     "metadata": {},
     "output_type": "execute_result"
    }
   ],
   "source": [
    "a!=d"
   ]
  },
  {
   "cell_type": "markdown",
   "id": "9e88ea05-57ea-48ee-8d98-66af714520ac",
   "metadata": {},
   "source": [
    "3) Create a string variable and use the ' in ' and ' not in ' keywords to check for the presence or absence of a substring within the string EX : \" Python Is Powerfull language\". & Print the results."
   ]
  },
  {
   "cell_type": "code",
   "execution_count": 27,
   "id": "3289d6fd-783f-4e03-b4fa-b445fcd0b5c6",
   "metadata": {},
   "outputs": [],
   "source": [
    "txt=\" Python Is Powerfull language.\""
   ]
  },
  {
   "cell_type": "code",
   "execution_count": 28,
   "id": "72b97ab1-0606-4c75-8abd-6a2b20fb84d6",
   "metadata": {},
   "outputs": [
    {
     "name": "stdout",
     "output_type": "stream",
     "text": [
      "False\n"
     ]
    }
   ],
   "source": [
    "print(\"Code\" in txt)"
   ]
  },
  {
   "cell_type": "code",
   "execution_count": 30,
   "id": "c473ff5a-67e5-40a8-9376-22f1f5a8e997",
   "metadata": {},
   "outputs": [
    {
     "name": "stdout",
     "output_type": "stream",
     "text": [
      "False\n"
     ]
    }
   ],
   "source": [
    "print (\"Python\" not in txt)"
   ]
  },
  {
   "cell_type": "code",
   "execution_count": 31,
   "id": "2f87f37a-9875-4180-9b7d-2fd7f5883882",
   "metadata": {},
   "outputs": [
    {
     "name": "stdout",
     "output_type": "stream",
     "text": [
      "True\n"
     ]
    }
   ],
   "source": [
    "print(\"Python\" in txt)"
   ]
  },
  {
   "cell_type": "markdown",
   "id": "cf3cc621-d810-4708-8dd1-fded875bcea9",
   "metadata": {},
   "source": [
    "4) Define a list with at least three elements. Use a for loop to print each element of the list."
   ]
  },
  {
   "cell_type": "code",
   "execution_count": 32,
   "id": "a6f06864-0301-45ca-a0fe-118735a71126",
   "metadata": {},
   "outputs": [],
   "source": [
    "Brij=['Mathura', 'Vrindavan', 'Goverdhan', 'Barsana', 'Gokul']"
   ]
  },
  {
   "cell_type": "code",
   "execution_count": 34,
   "id": "ff8aaff1-b173-44cf-a802-f64984f93a43",
   "metadata": {},
   "outputs": [
    {
     "name": "stdout",
     "output_type": "stream",
     "text": [
      "Mathura\n",
      "Vrindavan\n",
      "Goverdhan\n",
      "Barsana\n",
      "Gokul\n"
     ]
    }
   ],
   "source": [
    "for i in Brij:\n",
    "    print(i)"
   ]
  },
  {
   "cell_type": "markdown",
   "id": "47fe5ccc-f181-4efc-ada9-aefadaa20941",
   "metadata": {},
   "source": [
    "5) Use the range() function to print numbers from 10 to 1 using a for loop."
   ]
  },
  {
   "cell_type": "code",
   "execution_count": 35,
   "id": "6ac800c4-1b4f-4fea-b785-f31cff852466",
   "metadata": {},
   "outputs": [
    {
     "data": {
      "text/plain": [
       "range(0, 10)"
      ]
     },
     "execution_count": 35,
     "metadata": {},
     "output_type": "execute_result"
    }
   ],
   "source": [
    "range(10)"
   ]
  },
  {
   "cell_type": "code",
   "execution_count": 36,
   "id": "b78f7d47-8e4f-480b-ab44-2bb68fd12fbb",
   "metadata": {},
   "outputs": [
    {
     "data": {
      "text/plain": [
       "range(10, 1)"
      ]
     },
     "execution_count": 36,
     "metadata": {},
     "output_type": "execute_result"
    }
   ],
   "source": [
    "range(10,1)"
   ]
  },
  {
   "cell_type": "code",
   "execution_count": 38,
   "id": "9e08e57c-8984-4daf-9686-a59877d9b063",
   "metadata": {},
   "outputs": [
    {
     "name": "stdout",
     "output_type": "stream",
     "text": [
      "range(10, 1)\n"
     ]
    }
   ],
   "source": [
    "print(range(10,1))"
   ]
  },
  {
   "cell_type": "code",
   "execution_count": 41,
   "id": "bf3be338-950d-4b22-ac53-2a2ee9fe6ec8",
   "metadata": {},
   "outputs": [],
   "source": [
    "for i in range(10,1):\n",
    "    print(i)"
   ]
  },
  {
   "cell_type": "raw",
   "id": "a47aaa5e-e37a-43c5-a9d2-6579dfcd234d",
   "metadata": {},
   "source": [
    "for i in range(10,1):\n",
    "    print(i)"
   ]
  },
  {
   "cell_type": "code",
   "execution_count": 42,
   "id": "8602e345-2d88-467c-88ff-5dab12a3442f",
   "metadata": {},
   "outputs": [],
   "source": [
    "for i in range(10,1):\n",
    "    print(i)"
   ]
  },
  {
   "cell_type": "code",
   "execution_count": 43,
   "id": "3bf2acc8-5fd7-4dd1-9b29-90152a086fd9",
   "metadata": {},
   "outputs": [],
   "source": [
    "for i in range(10,1,1):\n",
    "    print(i)"
   ]
  },
  {
   "cell_type": "code",
   "execution_count": 44,
   "id": "aeed7e86-8c00-426f-8a98-b81563f61cce",
   "metadata": {},
   "outputs": [
    {
     "data": {
      "text/plain": [
       "range(0, 10)"
      ]
     },
     "execution_count": 44,
     "metadata": {},
     "output_type": "execute_result"
    }
   ],
   "source": [
    "range(10)"
   ]
  },
  {
   "cell_type": "code",
   "execution_count": 45,
   "id": "a5b92260-42b9-4a85-88d4-b7b12cd54cfe",
   "metadata": {},
   "outputs": [
    {
     "data": {
      "text/plain": [
       "range(0, -10)"
      ]
     },
     "execution_count": 45,
     "metadata": {},
     "output_type": "execute_result"
    }
   ],
   "source": [
    "range(-10)"
   ]
  },
  {
   "cell_type": "code",
   "execution_count": 46,
   "id": "15ae7ad6-cef5-4b8e-b835-5807a94fccb9",
   "metadata": {},
   "outputs": [],
   "source": [
    "for i in range(0,-10):\n",
    "    print(i)"
   ]
  },
  {
   "cell_type": "code",
   "execution_count": 47,
   "id": "97d4e8a2-67d7-42ba-a932-704da62aadf4",
   "metadata": {},
   "outputs": [
    {
     "name": "stdout",
     "output_type": "stream",
     "text": [
      "10\n",
      "9\n",
      "8\n",
      "7\n",
      "6\n",
      "5\n",
      "4\n",
      "3\n",
      "2\n"
     ]
    }
   ],
   "source": [
    "for i in range(10, 1, -1):\n",
    "    print(i)"
   ]
  },
  {
   "cell_type": "code",
   "execution_count": 48,
   "id": "83358956-cb58-49f6-9762-92a391c7582d",
   "metadata": {},
   "outputs": [
    {
     "name": "stdout",
     "output_type": "stream",
     "text": [
      "1\n",
      "2\n",
      "3\n",
      "4\n",
      "5\n",
      "6\n",
      "7\n",
      "8\n",
      "9\n"
     ]
    }
   ],
   "source": [
    "for i in range(1,10):\n",
    "    print(i)"
   ]
  },
  {
   "cell_type": "markdown",
   "id": "7264ee04-50c3-42bc-8eb3-e6a097ffd5a6",
   "metadata": {},
   "source": [
    "6) Create a string variable and demonstrate the following string methods: slicing, negative indexing, converting to uppercase converting to lowercase, stripping whitespace, replacing a substring, and splitting the string."
   ]
  },
  {
   "cell_type": "code",
   "execution_count": 49,
   "id": "5c259ece-e31d-4b2e-b6fa-9ab61a82e3b4",
   "metadata": {},
   "outputs": [],
   "source": [
    "a='My name is Manish Mahawar.'"
   ]
  },
  {
   "cell_type": "code",
   "execution_count": 50,
   "id": "04b4bb9d-f11a-4cce-b39b-db1c89d12069",
   "metadata": {},
   "outputs": [
    {
     "data": {
      "text/plain": [
       "'My name is Manish Mahawar.'"
      ]
     },
     "execution_count": 50,
     "metadata": {},
     "output_type": "execute_result"
    }
   ],
   "source": [
    "a[:]"
   ]
  },
  {
   "cell_type": "code",
   "execution_count": 51,
   "id": "285c7ef4-fc4d-4d9f-a17d-09ae8035eaa9",
   "metadata": {},
   "outputs": [
    {
     "data": {
      "text/plain": [
       "' na'"
      ]
     },
     "execution_count": 51,
     "metadata": {},
     "output_type": "execute_result"
    }
   ],
   "source": [
    "a[2:5]"
   ]
  },
  {
   "cell_type": "code",
   "execution_count": 53,
   "id": "c8cd5fc4-c1b4-4981-8cfe-4556da88d178",
   "metadata": {},
   "outputs": [
    {
     "data": {
      "text/plain": [
       "'My na'"
      ]
     },
     "execution_count": 53,
     "metadata": {},
     "output_type": "execute_result"
    }
   ],
   "source": [
    "a[:5]"
   ]
  },
  {
   "cell_type": "code",
   "execution_count": 54,
   "id": "c74e682a-1949-42be-a03b-4280d06a9dc1",
   "metadata": {},
   "outputs": [
    {
     "data": {
      "text/plain": [
       "'.'"
      ]
     },
     "execution_count": 54,
     "metadata": {},
     "output_type": "execute_result"
    }
   ],
   "source": [
    "a[-1]"
   ]
  },
  {
   "cell_type": "code",
   "execution_count": 55,
   "id": "97affc9b-9bed-428e-a694-bfab69b4ffa8",
   "metadata": {},
   "outputs": [
    {
     "data": {
      "text/plain": [
       "'MY NAME IS MANISH MAHAWAR.'"
      ]
     },
     "execution_count": 55,
     "metadata": {},
     "output_type": "execute_result"
    }
   ],
   "source": [
    "a.upper()"
   ]
  },
  {
   "cell_type": "code",
   "execution_count": 56,
   "id": "29905474-93da-4e5f-9dcb-906a8bb32156",
   "metadata": {},
   "outputs": [
    {
     "data": {
      "text/plain": [
       "'my name is manish mahawar.'"
      ]
     },
     "execution_count": 56,
     "metadata": {},
     "output_type": "execute_result"
    }
   ],
   "source": [
    "a.lower()"
   ]
  },
  {
   "cell_type": "code",
   "execution_count": 57,
   "id": "fb6fa016-a817-4d8d-837a-240ce8e5f3b6",
   "metadata": {},
   "outputs": [
    {
     "data": {
      "text/plain": [
       "'My Name Is Manish Mahawar.'"
      ]
     },
     "execution_count": 57,
     "metadata": {},
     "output_type": "execute_result"
    }
   ],
   "source": [
    "a.title()"
   ]
  },
  {
   "cell_type": "code",
   "execution_count": 58,
   "id": "158bda25-c207-402e-9609-c9df7425d6bc",
   "metadata": {},
   "outputs": [
    {
     "data": {
      "text/plain": [
       "'My name is Manish Mahawar.'"
      ]
     },
     "execution_count": 58,
     "metadata": {},
     "output_type": "execute_result"
    }
   ],
   "source": [
    "a.strip()"
   ]
  },
  {
   "cell_type": "code",
   "execution_count": 59,
   "id": "0d2f86af-93f0-4127-848d-6193bda5e6e1",
   "metadata": {},
   "outputs": [
    {
     "data": {
      "text/plain": [
       "['My name ', ' Man', 'h Mahawar.']"
      ]
     },
     "execution_count": 59,
     "metadata": {},
     "output_type": "execute_result"
    }
   ],
   "source": [
    "a.split(\"is\")"
   ]
  },
  {
   "cell_type": "code",
   "execution_count": 60,
   "id": "72c3b2f8-1338-4a85-b4f4-c63b7b94aba9",
   "metadata": {},
   "outputs": [
    {
     "data": {
      "text/plain": [
       "'My name is Shivansh Mahawar.'"
      ]
     },
     "execution_count": 60,
     "metadata": {},
     "output_type": "execute_result"
    }
   ],
   "source": [
    "a.replace(\"Manish\", \"Shivansh\")"
   ]
  },
  {
   "cell_type": "markdown",
   "id": "61956376-91c5-45b8-9dcc-9f0e3de8ceea",
   "metadata": {},
   "source": [
    "7) Create a list inside list with at least five elements of different data types. Print the list."
   ]
  },
  {
   "cell_type": "code",
   "execution_count": 64,
   "id": "ed5df252-260f-4816-91b4-10ba19c18fae",
   "metadata": {},
   "outputs": [],
   "source": [
    "list1=['Delhi',['East Delhi','West Delhi','South Delhi','North Delhi'],'UP', 'Haryana',['Faridabad','Ballabhgarh','Gurugram'],'Rajasthan']"
   ]
  },
  {
   "cell_type": "code",
   "execution_count": 65,
   "id": "40db7c85-1101-49d1-a36e-22650223a1ea",
   "metadata": {},
   "outputs": [
    {
     "name": "stdout",
     "output_type": "stream",
     "text": [
      "['Delhi', ['East Delhi', 'West Delhi', 'South Delhi', 'North Delhi'], 'UP', 'Haryana', ['Faridabad', 'Ballabhgarh', 'Gurugram'], 'Rajasthan']\n"
     ]
    }
   ],
   "source": [
    "print(list1)"
   ]
  },
  {
   "cell_type": "markdown",
   "id": "a1acde0f-d286-4c44-99e3-b5f6da3551d3",
   "metadata": {},
   "source": [
    "8) Access and print same item from the list using both positive and negative indexing."
   ]
  },
  {
   "cell_type": "code",
   "execution_count": 73,
   "id": "107c72c5-3dad-4dbe-be4c-484133ee784e",
   "metadata": {},
   "outputs": [],
   "source": [
    "list1=['Delhi',['East Delhi','West Delhi','South Delhi','North Delhi'],'UP', 'Haryana',['Faridabad','Ballabhgarh','Gurugram'],'Rajasthan']"
   ]
  },
  {
   "cell_type": "code",
   "execution_count": 74,
   "id": "89971ec3-ad93-451f-ae3e-67bded99c7dd",
   "metadata": {},
   "outputs": [
    {
     "data": {
      "text/plain": [
       "'UP'"
      ]
     },
     "execution_count": 74,
     "metadata": {},
     "output_type": "execute_result"
    }
   ],
   "source": [
    "list1[2]"
   ]
  },
  {
   "cell_type": "code",
   "execution_count": 75,
   "id": "c2e078d8-94a3-48d3-8994-8c63f91d9d5a",
   "metadata": {},
   "outputs": [
    {
     "data": {
      "text/plain": [
       "['East Delhi', 'West Delhi', 'South Delhi', 'North Delhi']"
      ]
     },
     "execution_count": 75,
     "metadata": {},
     "output_type": "execute_result"
    }
   ],
   "source": [
    "list1[1]"
   ]
  },
  {
   "cell_type": "code",
   "execution_count": 76,
   "id": "2f025f76-4e99-4311-b119-079509f9711e",
   "metadata": {},
   "outputs": [
    {
     "data": {
      "text/plain": [
       "[['East Delhi', 'West Delhi', 'South Delhi', 'North Delhi'], 'UP']"
      ]
     },
     "execution_count": 76,
     "metadata": {},
     "output_type": "execute_result"
    }
   ],
   "source": [
    "list1[-5:-3]"
   ]
  },
  {
   "cell_type": "code",
   "execution_count": 78,
   "id": "00d279f3-b23e-47ae-8e3b-7eea51850da8",
   "metadata": {},
   "outputs": [
    {
     "data": {
      "text/plain": [
       "'Rajasthan'"
      ]
     },
     "execution_count": 78,
     "metadata": {},
     "output_type": "execute_result"
    }
   ],
   "source": [
    "list1[-1]"
   ]
  },
  {
   "cell_type": "code",
   "execution_count": 79,
   "id": "eaa9b5f2-3ec7-44db-aeb9-89f0fd3ca4b6",
   "metadata": {},
   "outputs": [
    {
     "data": {
      "text/plain": [
       "[]"
      ]
     },
     "execution_count": 79,
     "metadata": {},
     "output_type": "execute_result"
    }
   ],
   "source": [
    "list1[-2:-4]"
   ]
  },
  {
   "cell_type": "code",
   "execution_count": 80,
   "id": "ccff49f1-1df8-4f2c-8646-7dc8aaa4bef4",
   "metadata": {},
   "outputs": [
    {
     "data": {
      "text/plain": [
       "['Faridabad', 'Ballabhgarh', 'Gurugram']"
      ]
     },
     "execution_count": 80,
     "metadata": {},
     "output_type": "execute_result"
    }
   ],
   "source": [
    "list1[-2]"
   ]
  },
  {
   "cell_type": "code",
   "execution_count": 82,
   "id": "ba86d0c1-d898-4f5e-a24b-4b051b30ff2a",
   "metadata": {},
   "outputs": [
    {
     "data": {
      "text/plain": [
       "'Ballabhgarh'"
      ]
     },
     "execution_count": 82,
     "metadata": {},
     "output_type": "execute_result"
    }
   ],
   "source": [
    "list1[-2][1]"
   ]
  },
  {
   "cell_type": "markdown",
   "id": "8662f18f-e069-4304-9c8e-773b2d46caab",
   "metadata": {},
   "source": [
    "9) Modify elements of a list by using the append(), insert(), remove(), pop(), and del methods. Print the list after each operation."
   ]
  },
  {
   "cell_type": "code",
   "execution_count": 83,
   "id": "53e5754d-a758-46e8-a941-e4e632eba955",
   "metadata": {},
   "outputs": [],
   "source": [
    "list1.append('Sikkim')"
   ]
  },
  {
   "cell_type": "code",
   "execution_count": 86,
   "id": "8accc266-e656-47bc-95ff-48f380069a12",
   "metadata": {},
   "outputs": [
    {
     "name": "stdout",
     "output_type": "stream",
     "text": [
      "['Delhi', ['East Delhi', 'West Delhi', 'South Delhi', 'North Delhi'], 'UP', 'Haryana', ['Faridabad', 'Ballabhgarh', 'Gurugram'], 'Rajasthan', 'Sikkim']\n"
     ]
    }
   ],
   "source": [
    "print(list1)"
   ]
  },
  {
   "cell_type": "code",
   "execution_count": 87,
   "id": "16a55eae-6db0-42d4-a90b-36c0d169d91f",
   "metadata": {},
   "outputs": [],
   "source": [
    "list1.insert(1,'Bihar')"
   ]
  },
  {
   "cell_type": "code",
   "execution_count": 88,
   "id": "e4e61c2f-9d24-4004-b259-f41cef4556eb",
   "metadata": {},
   "outputs": [
    {
     "name": "stdout",
     "output_type": "stream",
     "text": [
      "['Delhi', 'Bihar', ['East Delhi', 'West Delhi', 'South Delhi', 'North Delhi'], 'UP', 'Haryana', ['Faridabad', 'Ballabhgarh', 'Gurugram'], 'Rajasthan', 'Sikkim']\n"
     ]
    }
   ],
   "source": [
    "print(list1)"
   ]
  },
  {
   "cell_type": "code",
   "execution_count": 90,
   "id": "ef0d767d-37ef-45d7-91a7-c43a20102a47",
   "metadata": {},
   "outputs": [
    {
     "ename": "SyntaxError",
     "evalue": "invalid syntax (29259796.py, line 1)",
     "output_type": "error",
     "traceback": [
      "\u001b[1;36m  Cell \u001b[1;32mIn[90], line 1\u001b[1;36m\u001b[0m\n\u001b[1;33m    list1.pop(1,/)\u001b[0m\n\u001b[1;37m                ^\u001b[0m\n\u001b[1;31mSyntaxError\u001b[0m\u001b[1;31m:\u001b[0m invalid syntax\n"
     ]
    }
   ],
   "source": [
    "list1.pop(1,/)"
   ]
  },
  {
   "cell_type": "code",
   "execution_count": 91,
   "id": "1a8526ea-1f84-4c9d-aebf-e634be33fc5b",
   "metadata": {},
   "outputs": [],
   "source": [
    "my_list=[10,20,30,40,50]"
   ]
  },
  {
   "cell_type": "code",
   "execution_count": 92,
   "id": "ca1992ef-c404-4e91-bad2-e7adbc5983e4",
   "metadata": {},
   "outputs": [],
   "source": [
    "removed_element=my_list.pop(2)"
   ]
  },
  {
   "cell_type": "code",
   "execution_count": 93,
   "id": "2c48dc9c-90d8-4846-9b11-d5f7cbdfd2ec",
   "metadata": {},
   "outputs": [
    {
     "name": "stdout",
     "output_type": "stream",
     "text": [
      "[10, 20, 40, 50]\n"
     ]
    }
   ],
   "source": [
    "print(my_list)"
   ]
  },
  {
   "cell_type": "code",
   "execution_count": 97,
   "id": "06a7652d-2f67-423f-9706-4de90de7b691",
   "metadata": {},
   "outputs": [],
   "source": [
    "del my_list[0]"
   ]
  },
  {
   "cell_type": "code",
   "execution_count": 98,
   "id": "7ee308a2-9617-463b-8f93-1cbc8cd29410",
   "metadata": {},
   "outputs": [
    {
     "name": "stdout",
     "output_type": "stream",
     "text": [
      "[20, 40, 50]\n"
     ]
    }
   ],
   "source": [
    "print(my_list)"
   ]
  },
  {
   "cell_type": "code",
   "execution_count": 101,
   "id": "a7a9d17f-7650-4e62-89ae-1388c25caf69",
   "metadata": {},
   "outputs": [],
   "source": [
    "my_list.remove(50)"
   ]
  },
  {
   "cell_type": "code",
   "execution_count": 102,
   "id": "4bde0e45-9ba1-41e6-a04b-368579414353",
   "metadata": {},
   "outputs": [
    {
     "name": "stdout",
     "output_type": "stream",
     "text": [
      "[20, 40]\n"
     ]
    }
   ],
   "source": [
    "print(my_list)"
   ]
  },
  {
   "cell_type": "markdown",
   "id": "d722306e-6320-423f-a6b7-8f63ec5415a5",
   "metadata": {},
   "source": [
    "10) Join two lists and print the all item using for loop and also check is \"data\" present in list using \"if else\" statement. list_1 = [ 1,2,3,4,\"power\", True] and list_2= [\"one\", \"two\",\"Three\", \"Data\", False]"
   ]
  },
  {
   "cell_type": "code",
   "execution_count": 103,
   "id": "a50adc9a-7211-4656-8732-2b2690b3895a",
   "metadata": {},
   "outputs": [],
   "source": [
    "list1=['Manish','Shivansh','Anjali']\n",
    "list2=[38,6,32]"
   ]
  },
  {
   "cell_type": "code",
   "execution_count": 104,
   "id": "7a791be5-6d56-4a24-8210-787a392b7415",
   "metadata": {},
   "outputs": [
    {
     "data": {
      "text/plain": [
       "['Manish', 'Shivansh', 'Anjali', 38, 6, 32]"
      ]
     },
     "execution_count": 104,
     "metadata": {},
     "output_type": "execute_result"
    }
   ],
   "source": [
    "list1+list2"
   ]
  },
  {
   "cell_type": "code",
   "execution_count": 105,
   "id": "fe9ca3d3-846f-4229-b5a9-1c42ccf7dc76",
   "metadata": {},
   "outputs": [
    {
     "name": "stdout",
     "output_type": "stream",
     "text": [
      "Yes, Manish is present\n"
     ]
    }
   ],
   "source": [
    "if \"Manish\" in list1:\n",
    "    print(\"Yes, Manish is present\")\n",
    "else:\n",
    "    print(\"not present\")"
   ]
  },
  {
   "cell_type": "code",
   "execution_count": 107,
   "id": "46c062e0-8733-488f-bf84-d3b536520037",
   "metadata": {},
   "outputs": [
    {
     "name": "stdout",
     "output_type": "stream",
     "text": [
      "not present\n"
     ]
    }
   ],
   "source": [
    "if \"Raju\" in list2:\n",
    "    print(\"Yes present\")\n",
    "else:\n",
    "    print(\"not present\")"
   ]
  },
  {
   "cell_type": "code",
   "execution_count": null,
   "id": "d3fa8c1f-3d8d-467f-ac37-38c372fded13",
   "metadata": {},
   "outputs": [],
   "source": []
  }
 ],
 "metadata": {
  "kernelspec": {
   "display_name": "Python 3 (ipykernel)",
   "language": "python",
   "name": "python3"
  },
  "language_info": {
   "codemirror_mode": {
    "name": "ipython",
    "version": 3
   },
   "file_extension": ".py",
   "mimetype": "text/x-python",
   "name": "python",
   "nbconvert_exporter": "python",
   "pygments_lexer": "ipython3",
   "version": "3.13.5"
  }
 },
 "nbformat": 4,
 "nbformat_minor": 5
}
