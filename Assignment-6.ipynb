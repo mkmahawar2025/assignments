{
 "cells": [
  {
   "cell_type": "markdown",
   "id": "3a011039-72aa-47f4-821b-ceca1f3135ab",
   "metadata": {},
   "source": [
    "### 1) Write a lambda function to calculate the square of a number. Use it to print the square of 8."
   ]
  },
  {
   "cell_type": "code",
   "execution_count": 1,
   "id": "f267c3da-6a9a-477a-9416-51ddde91e364",
   "metadata": {},
   "outputs": [],
   "source": [
    "m = lambda a : a**2"
   ]
  },
  {
   "cell_type": "code",
   "execution_count": 2,
   "id": "f37b6fe9-056f-4cc9-9174-e23290231649",
   "metadata": {},
   "outputs": [
    {
     "data": {
      "text/plain": [
       "64"
      ]
     },
     "execution_count": 2,
     "metadata": {},
     "output_type": "execute_result"
    }
   ],
   "source": [
    "m(8)"
   ]
  },
  {
   "cell_type": "markdown",
   "id": "186799ce-a086-4b01-a15a-24890f3013cd",
   "metadata": {},
   "source": [
    "### 2) Create a lambda function to multiply three arguments. Use it to multiply 3, 4, and 5, then print the result."
   ]
  },
  {
   "cell_type": "code",
   "execution_count": 4,
   "id": "dc402c8b-8556-4b5b-861f-ebc6d0129c66",
   "metadata": {},
   "outputs": [],
   "source": [
    "s = lambda a, b, c : a * b * c"
   ]
  },
  {
   "cell_type": "code",
   "execution_count": 5,
   "id": "5426eaa9-4535-41df-b649-ad12eaffad89",
   "metadata": {},
   "outputs": [
    {
     "data": {
      "text/plain": [
       "60"
      ]
     },
     "execution_count": 5,
     "metadata": {},
     "output_type": "execute_result"
    }
   ],
   "source": [
    "s(3,4,5)"
   ]
  },
  {
   "cell_type": "markdown",
   "id": "b33b6214-0440-42ec-bde8-82c5e95c522b",
   "metadata": {},
   "source": [
    "###  3) Write a lambda function to find the maximum of two numbers. Use it to find the maximum between 10 and 20 and print the result."
   ]
  },
  {
   "cell_type": "code",
   "execution_count": 6,
   "id": "2f43b437-f691-4dbc-b910-2e6c232c23ae",
   "metadata": {},
   "outputs": [],
   "source": [
    "k = lambda a, b : a if a > b else b"
   ]
  },
  {
   "cell_type": "code",
   "execution_count": 7,
   "id": "fb449bb6-d19e-4a2b-9c40-89a39385347c",
   "metadata": {},
   "outputs": [
    {
     "data": {
      "text/plain": [
       "20"
      ]
     },
     "execution_count": 7,
     "metadata": {},
     "output_type": "execute_result"
    }
   ],
   "source": [
    "k(10, 20)"
   ]
  },
  {
   "cell_type": "markdown",
   "id": "0eed5b9a-8811-4baf-82ed-ca2c9948a96f",
   "metadata": {},
   "source": [
    "### 4) Create a list of integers and use a lambda function with the filter method to filter out even numbers. Print the resulting list."
   ]
  },
  {
   "cell_type": "code",
   "execution_count": 9,
   "id": "eb850f14-9c92-4b92-bc4b-bf37f620e160",
   "metadata": {},
   "outputs": [
    {
     "name": "stdout",
     "output_type": "stream",
     "text": [
      "Even numbers: [2, 4, 6, 8, 10]\n"
     ]
    }
   ],
   "source": [
    "\n",
    "numbers = [1, 2, 3, 4, 5, 6, 7, 8, 9, 10]\n",
    "\n",
    "\n",
    "even_numbers = list(filter(lambda x: x % 2 == 0, numbers))\n",
    "\n",
    "\n",
    "print(\"Even numbers:\", even_numbers)"
   ]
  },
  {
   "cell_type": "markdown",
   "id": "79a8ce08-63ba-4348-9ffe-0a6423ca9fb4",
   "metadata": {},
   "source": [
    "### 5) Create a class named Animal with an __init__ method that initializes species and name. Instantiate an object of this class with species \"Dog\" and name \"Buddy\", then print the species and name."
   ]
  },
  {
   "cell_type": "code",
   "execution_count": 14,
   "id": "42a29afb-f958-49b9-99c4-0b322d9f48e3",
   "metadata": {},
   "outputs": [
    {
     "name": "stdout",
     "output_type": "stream",
     "text": [
      "Dog\n",
      "Buddy\n"
     ]
    }
   ],
   "source": [
    "class Animal:\n",
    "    def __init__(self, species, name):\n",
    "        self.species = species\n",
    "        self.name = name\n",
    "    d1 = Animal(\"Dog\", \"Buddy\")\n",
    "    d2 = Animal(\"Dog\", \"Tommy\")\n",
    "    d3 = Animal(\"Dog\", \"Tiger\")\n",
    "print(d1.species)\n",
    "print(d1.name)"
   ]
  },
  {
   "cell_type": "markdown",
   "id": "acf16b3f-665f-4537-bee2-d38968462da8",
   "metadata": {},
   "source": [
    "### 6) Create a class named Car with attributes for brand, model, and year. Add a method car_info that prints a formatted string with this information. Create an instance of the Car class and call the car_info method."
   ]
  },
  {
   "cell_type": "code",
   "execution_count": 22,
   "id": "7e6950a4-2dc6-4e63-8fbc-310b4c6d54c7",
   "metadata": {},
   "outputs": [
    {
     "name": "stdout",
     "output_type": "stream",
     "text": [
      "Car information: Toyota Corrolla 2020\n"
     ]
    }
   ],
   "source": [
    "class Car:\n",
    "    def __init__(self,brand, model, year):\n",
    "        self.brand = brand\n",
    "        self.model = model\n",
    "        self.year = year\n",
    "    def car_info(self):\n",
    "        print(f\"Car information: {self.brand} {self.model} {self.year}\")\n",
    "my_car = Car(\"Toyota\", \"Corrolla\", 2020)\n",
    "my_car.car_info()"
   ]
  },
  {
   "cell_type": "markdown",
   "id": "b81f48cb-1d7c-4deb-827c-7cac29fa34ca",
   "metadata": {},
   "source": [
    "### 7) Create a class named Person with an __init__ method and a method introduce that prints a greeting including the person's name. Instantiate an object with the name \"Alice\" and call the introduce method."
   ]
  },
  {
   "cell_type": "code",
   "execution_count": 24,
   "id": "bb35d57d-241c-4447-bb03-8d9429118e63",
   "metadata": {},
   "outputs": [
    {
     "name": "stdout",
     "output_type": "stream",
     "text": [
      "Hello Alice\n"
     ]
    }
   ],
   "source": [
    "class Person:\n",
    "    def __init__(self,name):\n",
    "        self.name = name\n",
    "    def greet(self):\n",
    "        print(f\"Hello {self.name}\")\n",
    "p1 = Person(\"Alice\")\n",
    "p1.greet()"
   ]
  },
  {
   "cell_type": "markdown",
   "id": "b5303c7e-3cca-4e3b-a923-74971cd7ad93",
   "metadata": {},
   "source": [
    "### 8) Create a class named Student with attributes for name and grades (a list of grades). Add a method average_grade that returns the average of the grades. Create an instance of the Student class, add some grades, and print the average grade."
   ]
  },
  {
   "cell_type": "code",
   "execution_count": 32,
   "id": "f9a2322f-02b3-4298-8c52-1808c95dea21",
   "metadata": {},
   "outputs": [
    {
     "name": "stdout",
     "output_type": "stream",
     "text": [
      "Anjali's average grade is: 73.00\n"
     ]
    }
   ],
   "source": [
    "class Student:\n",
    "        def __init__(self, name, grades):\n",
    "            self.name = name\n",
    "            self.grades = grades\n",
    "        def average_grade(self):\n",
    "            if not self.grades:\n",
    "                return 0\n",
    "            return sum(self.grades)/len(self.grades)\n",
    "student1 = Student(\"Anjali\", [82, 63, 54, 74, 92])\n",
    "print(f\"{student1.name}'s average grade is: {student1.average_grade():.2f}\")"
   ]
  },
  {
   "cell_type": "code",
   "execution_count": 29,
   "id": "75792c33-dab0-4610-9504-1f3d6b113431",
   "metadata": {},
   "outputs": [
    {
     "name": "stdout",
     "output_type": "stream",
     "text": [
      "Anjali's average grade is: 86.60\n"
     ]
    }
   ],
   "source": [
    "# Define the Student class\n",
    "class Student:\n",
    "    def __init__(self, name, grades):\n",
    "        self.name = name\n",
    "        self.grades = grades  # A list of grades\n",
    "\n",
    "    def average_grade(self):\n",
    "        if not self.grades:\n",
    "            return 0\n",
    "        return sum(self.grades) / len(self.grades)\n",
    "\n",
    "# Create an instance of the Student class\n",
    "student1 = Student(\"Anjali\", [85, 90, 78, 92, 88])\n",
    "\n",
    "# Calculate and print the average grade\n",
    "print(f\"{student1.name}'s average grade is: {student1.average_grade():.2f}\")\n"
   ]
  },
  {
   "cell_type": "markdown",
   "id": "34f1afab-b349-4064-9f5f-54ef2b7a431f",
   "metadata": {},
   "source": [
    "### 9) Create a class named Book with attributes for title, author, and year_published. Add a method book_age that calculates how old the book is from the current year. Create an instance of the Book class and print the age of the book."
   ]
  },
  {
   "cell_type": "code",
   "execution_count": 38,
   "id": "16a680a4-85e4-4781-9e61-482f52804220",
   "metadata": {},
   "outputs": [
    {
     "name": "stdout",
     "output_type": "stream",
     "text": [
      "The book 'GODAN' is 89 years old.\n"
     ]
    }
   ],
   "source": [
    "class Book:\n",
    "    def __init__(self, title, author, year_published):\n",
    "        self.title = title\n",
    "        self.author = author\n",
    "        self.year_published = year_published\n",
    "    def book_age(self):\n",
    "        current_year = datetime.now().year\n",
    "        return current_year - self.year_published\n",
    "        \n",
    "b1 = Book(\"GODAN\",\"Munshi Prem Chand\", 1936)\n",
    "print(f\"The book '{b1.title}' is {b1.book_age()} years old.\")"
   ]
  },
  {
   "cell_type": "markdown",
   "id": "62d98a2f-a911-4344-95e2-044b92b88766",
   "metadata": {},
   "source": [
    "### 10) Write a BankAccount class with attributes for owner and balance. Add methods for deposit and withdraw. Create an instance and perform some deposits and withdrawals, then print the final balance."
   ]
  },
  {
   "cell_type": "code",
   "execution_count": 39,
   "id": "8fc9a6a7-1646-4d27-9277-a125bf603989",
   "metadata": {},
   "outputs": [
    {
     "name": "stdout",
     "output_type": "stream",
     "text": [
      "Deposited ₹500. New balance: ₹1500\n",
      "Withdrew ₹200. New balance: ₹1300\n",
      "Insufficient balance.\n",
      "Final balance for Manish: ₹1300\n"
     ]
    }
   ],
   "source": [
    "# Define the BankAccount class\n",
    "class BankAccount:\n",
    "    def __init__(self, owner, balance=0):\n",
    "        self.owner = owner\n",
    "        self.balance = balance\n",
    "\n",
    "    def deposit(self, amount):\n",
    "        if amount > 0:\n",
    "            self.balance += amount\n",
    "            print(f\"Deposited ₹{amount}. New balance: ₹{self.balance}\")\n",
    "        else:\n",
    "            print(\"Deposit amount must be positive.\")\n",
    "\n",
    "    def withdraw(self, amount):\n",
    "        if amount <= self.balance:\n",
    "            self.balance -= amount\n",
    "            print(f\"Withdrew ₹{amount}. New balance: ₹{self.balance}\")\n",
    "        else:\n",
    "            print(\"Insufficient balance.\")\n",
    "\n",
    "    def get_balance(self):\n",
    "        return self.balance\n",
    "\n",
    "# Create an instance of BankAccount\n",
    "account = BankAccount(\"Manish\", 1000)\n",
    "\n",
    "# Perform some transactions\n",
    "account.deposit(500)\n",
    "account.withdraw(200)\n",
    "account.withdraw(1500)  # Should show insufficient balance\n",
    "\n",
    "# Print final balance\n",
    "print(f\"Final balance for {account.owner}: ₹{account.get_balance()}\")\n"
   ]
  },
  {
   "cell_type": "markdown",
   "id": "7246df41-d380-4480-a1da-5f7e03245277",
   "metadata": {},
   "source": [
    "### 11) Create a Calculator class with methods for addition, subtraction, multiplication, and division. Use this class to perform a series of calculations and print the results."
   ]
  },
  {
   "cell_type": "code",
   "execution_count": 57,
   "id": "b31534ce-a8b2-4ebc-9579-802c8c8bad25",
   "metadata": {},
   "outputs": [
    {
     "name": "stdout",
     "output_type": "stream",
     "text": [
      "Addition: 10 + 5 = 15\n",
      "Subtraction: 10 - 5 = 5\n",
      "Multiplication: 10 * 5 = 50\n",
      "Division: 10 / 0 = Error: Division by zero\n",
      "Division: 10 / 2 = 5.0\n"
     ]
    }
   ],
   "source": [
    "# Calculator class\n",
    "class Calculator:\n",
    "    def add(self, a, b):\n",
    "        return a + b\n",
    "\n",
    "    def subtract(self, a, b):\n",
    "        return a - b\n",
    "\n",
    "    def multiply(self, a, b):\n",
    "        return a * b\n",
    "\n",
    "    def divide(self, a, b):\n",
    "        if b == 0:\n",
    "            return \"Error: Division by zero\"\n",
    "        return a / b\n",
    "\n",
    "# instance of Calculator\n",
    "calc = Calculator()\n",
    "\n",
    "# Perform calculations\n",
    "result1 = calc.add(10, 5)\n",
    "result2 = calc.subtract(10, 5)\n",
    "result3 = calc.multiply(10, 5)\n",
    "result4 = calc.divide(10, 0)  # Test divide by zero\n",
    "result5 = calc.divide(10, 2)\n",
    "\n",
    "# results\n",
    "print(\"Addition: 10 + 5 =\", result1)\n",
    "print(\"Subtraction: 10 - 5 =\", result2)\n",
    "print(\"Multiplication: 10 * 5 =\", result3)\n",
    "print(\"Division: 10 / 0 =\", result4)\n",
    "print(\"Division: 10 / 2 =\", result5)\n"
   ]
  },
  {
   "cell_type": "code",
   "execution_count": null,
   "id": "492ca944-47cd-4611-9f74-d4b401c7c5e7",
   "metadata": {},
   "outputs": [],
   "source": []
  }
 ],
 "metadata": {
  "kernelspec": {
   "display_name": "Python 3 (ipykernel)",
   "language": "python",
   "name": "python3"
  },
  "language_info": {
   "codemirror_mode": {
    "name": "ipython",
    "version": 3
   },
   "file_extension": ".py",
   "mimetype": "text/x-python",
   "name": "python",
   "nbconvert_exporter": "python",
   "pygments_lexer": "ipython3",
   "version": "3.13.5"
  }
 },
 "nbformat": 4,
 "nbformat_minor": 5
}
